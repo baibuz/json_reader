{
 "cells": [
  {
   "cell_type": "markdown",
   "metadata": {},
   "source": [
    "# Notebook for reading and analysing Json file\n",
    "by E. Baibuz"
   ]
  },
  {
   "cell_type": "markdown",
   "metadata": {},
   "source": [
    "#### Reading Json file"
   ]
  },
  {
   "cell_type": "code",
   "execution_count": 6,
   "metadata": {},
   "outputs": [],
   "source": [
    "import os\n",
    "import collections\n",
    "def read_json(path_to_json):\n",
    "    '''\n",
    "    This function read Json file and returns list of dictionaries\n",
    "    '''\n",
    "    import json   \n",
    "    with open(path_to_json, 'rb') as infile:\n",
    "        data = json.load(infile)\n",
    "    return data\n",
    "\n",
    "path_to_json = os.path.join(os.getcwd(),'data.json')\n",
    "data = read_json(path_to_json)"
   ]
  },
  {
   "cell_type": "markdown",
   "metadata": {},
   "source": [
    "## Simple analysis of a Json file"
   ]
  },
  {
   "cell_type": "code",
   "execution_count": 34,
   "metadata": {},
   "outputs": [],
   "source": [
    "def analyse_by_key(data_list, key):\n",
    "    '''\n",
    "    This function analyses list of dictionaries for a given key\n",
    "    It prints and returns values with counters for the key \n",
    "    '''\n",
    "    values = []\n",
    "    for item in data_list:\n",
    "        value = item[key]\n",
    "        values.append(value)    \n",
    "    c = collections.Counter()\n",
    "    for value in values:\n",
    "        c[value]+=1\n",
    "    print(\"Values for key '%s':\"%key, c)\n",
    "    return c"
   ]
  },
  {
   "cell_type": "code",
   "execution_count": 35,
   "metadata": {},
   "outputs": [
    {
     "name": "stdout",
     "output_type": "stream",
     "text": [
      "***** Key 'events_data' *****\n",
      "Number of entries:  107\n",
      "Keys in entries: ['id', 'client_id', 'user_id', 'category', 'action', 'options']\n"
     ]
    }
   ],
   "source": [
    "for key in data.keys():\n",
    "    print(\"*\"*5,\"Key '%s'\"%key,\"*\"*5)\n",
    "    data_list = data['events_data']\n",
    "    print(\"Number of entries: \",len(data_list))\n",
    "    print(\"Keys in entries:\",[x for x in data_list[0].keys()])\n"
   ]
  },
  {
   "cell_type": "markdown",
   "metadata": {},
   "source": [
    "### 'category' statistics"
   ]
  },
  {
   "cell_type": "code",
   "execution_count": 36,
   "metadata": {},
   "outputs": [
    {
     "name": "stdout",
     "output_type": "stream",
     "text": [
      "Values for key 'category': Counter({'page': 74, 'datepicker': 15, 'table': 10, 'report': 8})\n"
     ]
    },
    {
     "data": {
      "text/plain": [
       "Counter({'page': 74, 'datepicker': 15, 'table': 10, 'report': 8})"
      ]
     },
     "execution_count": 36,
     "metadata": {},
     "output_type": "execute_result"
    }
   ],
   "source": [
    "analyse_by_key(data_list, 'category')"
   ]
  },
  {
   "cell_type": "code",
   "execution_count": 37,
   "metadata": {},
   "outputs": [],
   "source": [
    "##### 'action' statistics"
   ]
  },
  {
   "cell_type": "code",
   "execution_count": 38,
   "metadata": {},
   "outputs": [
    {
     "name": "stdout",
     "output_type": "stream",
     "text": [
      "Values for key 'action': Counter({'enter': 74, 'apply': 15, 'sort': 10, 'change_mode': 6, 'link_click': 2})\n"
     ]
    },
    {
     "data": {
      "text/plain": [
       "Counter({'enter': 74,\n",
       "         'apply': 15,\n",
       "         'sort': 10,\n",
       "         'change_mode': 6,\n",
       "         'link_click': 2})"
      ]
     },
     "execution_count": 38,
     "metadata": {},
     "output_type": "execute_result"
    }
   ],
   "source": [
    "analyse_by_key(data_list, 'action')"
   ]
  },
  {
   "cell_type": "markdown",
   "metadata": {},
   "source": [
    "### How many clients with client_id "
   ]
  },
  {
   "cell_type": "code",
   "execution_count": 40,
   "metadata": {},
   "outputs": [
    {
     "name": "stdout",
     "output_type": "stream",
     "text": [
      "Values for key 'client_id': Counter({60459: 12, 27115: 11, 62602: 11, 56544: 8, 58113: 7, 18923: 5, 23207: 4, 52492: 3, 24500: 2, 53666: 2, 41737: 2, 62526: 1, 61944: 1, 62017: 1, 63120: 1, 59883: 1, 2913: 1, 62940: 1, 63149: 1, 45391: 1, 63019: 1, 15759: 1, 62007: 1, 62941: 1, 51009: 1, 62236: 1, 44682: 1, 39709: 1, 62144: 1, 25301: 1, 33645: 1, 62089: 1, 26705: 1, 1103: 1, 62439: 1, 44196: 1, 50149: 1, 57009: 1, 57207: 1, 32792: 1, 27323: 1, 58330: 1, 61245: 1, 19799: 1, 48128: 1, 57613: 1, 61244: 1, 53018: 1, 61078: 1, 20820: 1, 49700: 1})\n",
      "Number of clients: 51\n"
     ]
    }
   ],
   "source": [
    "print(\"Number of clients:\",len(analyse_by_key(data_list, 'client_id')))"
   ]
  },
  {
   "cell_type": "markdown",
   "metadata": {},
   "source": [
    "### How many 'action' were performed by the client with a given 'client_id'?"
   ]
  },
  {
   "cell_type": "code",
   "execution_count": 49,
   "metadata": {},
   "outputs": [
    {
     "name": "stdout",
     "output_type": "stream",
     "text": [
      "Client 62602 performed 11 actions: ['enter', 'enter', 'link_click', 'enter', 'enter', 'enter', 'enter', 'enter', 'link_click', 'enter', 'enter']\n"
     ]
    }
   ],
   "source": [
    "client_id = 62602\n",
    "actions = [item['action'] for item in data_list if (item['client_id']==client_id and item['action']!=None)]\n",
    "print(\"Client %i performed %i actions:\"%(client_id,len(actions)),actions)"
   ]
  },
  {
   "cell_type": "markdown",
   "metadata": {},
   "source": [
    "### How many 'action'=page were performed by the client with a given 'client_id'?"
   ]
  },
  {
   "cell_type": "code",
   "execution_count": 48,
   "metadata": {},
   "outputs": [
    {
     "name": "stdout",
     "output_type": "stream",
     "text": [
      "Client 62602 performed action 'page' 0 times:\n"
     ]
    }
   ],
   "source": [
    "client_id = 62602\n",
    "action_type = 'page'\n",
    "actions = 0\n",
    "for item in data_list:\n",
    "    if (item['client_id']==client_id and item['action']==action_type):\n",
    "        actions +=1\n",
    "print(\"Client %i performed action '%s' %i times\"%(client_id,action_type,actions))"
   ]
  },
  {
   "cell_type": "markdown",
   "metadata": {},
   "source": [
    "### How many clients performed actions with category=report"
   ]
  },
  {
   "cell_type": "code",
   "execution_count": 56,
   "metadata": {},
   "outputs": [
    {
     "name": "stdout",
     "output_type": "stream",
     "text": [
      "Number of unique clients who performed actions with category 'report': 3\n"
     ]
    }
   ],
   "source": [
    "import numpy as np\n",
    "category = 'report'\n",
    "clients = [item['client_id'] for item in data_list if (item['category']==category)]\n",
    "print(\"Number of unique clients who performed actions with category '%s':\"%category,len(np.unique(np.array(clients))))\n"
   ]
  },
  {
   "cell_type": "code",
   "execution_count": 57,
   "metadata": {},
   "outputs": [
    {
     "name": "stdout",
     "output_type": "stream",
     "text": [
      "Clients who performed actions with category=report'report': [58113 60459 62602]\n"
     ]
    }
   ],
   "source": [
    "print(\"Clients who performed actions with category=report'%s':\"%category,np.unique(np.array(clients)))"
   ]
  },
  {
   "cell_type": "code",
   "execution_count": null,
   "metadata": {},
   "outputs": [],
   "source": []
  }
 ],
 "metadata": {
  "kernelspec": {
   "display_name": "Python 3",
   "language": "python",
   "name": "python3"
  },
  "language_info": {
   "codemirror_mode": {
    "name": "ipython",
    "version": 3
   },
   "file_extension": ".py",
   "mimetype": "text/x-python",
   "name": "python",
   "nbconvert_exporter": "python",
   "pygments_lexer": "ipython3",
   "version": "3.9.0"
  }
 },
 "nbformat": 4,
 "nbformat_minor": 4
}
